{
  "cells": [
    {
      "cell_type": "markdown",
      "metadata": {
        "id": "view-in-github"
      },
      "source": [
        "[![Open In Colab](https://colab.research.google.com/assets/colab-badge.svg)](https://colab.research.google.com/github/camenduru/LivePortrait-jupyter/blob/main/LivePortrait_gradio_jupyter.ipynb)"
      ]
    },
    {
      "cell_type": "code",
      "execution_count": null,
      "metadata": {
        "id": "VjYy0F2gZIPR"
      },
      "outputs": [],
      "source": [
        "%cd /content\n",
        "!git clone -b dev https://github.com/camenduru/LivePortrait\n",
        "%cd /content/LivePortrait\n",
        "\n",
        "!rm -rf /content/LivePortrait/pretrained_weights\n",
        "!git clone https://huggingface.co/camenduru/LivePortrait /content/LivePortrait/pretrained_weights\n",
        "\n",
        "!pip install tyro==0.8.5 onnxruntime-gpu==1.18.1 onnx==1.16.1 gradio==4.36.1 colorama ffmpeg-python==0.2.0\n",
        "\n",
        "%cd /content/LivePortrait/src/utils/dependencies/insightface/thirdparty/face3d/mesh/cython\n",
        "!python setup.py build_ext --inplace\n",
        "\n",
        "%cd /content/LivePortrait\n",
        "!python app.py"
      ]
    }
  ],
  "metadata": {
    "accelerator": "GPU",
    "colab": {
      "gpuType": "T4",
      "provenance": []
    },
    "kernelspec": {
      "display_name": "Python 3",
      "name": "python3"
    },
    "language_info": {
      "name": "python"
    }
  },
  "nbformat": 4,
  "nbformat_minor": 0
}
